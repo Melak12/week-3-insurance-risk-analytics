{
 "cells": [
  {
   "cell_type": "code",
   "execution_count": 40,
   "id": "2c668541",
   "metadata": {},
   "outputs": [
    {
     "name": "stdout",
     "output_type": "stream",
     "text": [
      "The autoreload extension is already loaded. To reload it, use:\n",
      "  %reload_ext autoreload\n"
     ]
    }
   ],
   "source": [
    "# load the autoreload extension for IPython\n",
    "# This allows you to automatically reload modules before executing code\n",
    "%load_ext autoreload\n",
    "%autoreload 2\n",
    "\n",
    "import sys\n",
    "import os\n",
    "\n",
    "# Add the parent directory to the system path\n",
    "sys.path.append(os.path.abspath(os.path.join('..')))"
   ]
  },
  {
   "cell_type": "markdown",
   "id": "1be778d3",
   "metadata": {},
   "source": [
    "### Import Necessary Modules and Packages"
   ]
  },
  {
   "cell_type": "code",
   "execution_count": 41,
   "id": "09dd8376",
   "metadata": {},
   "outputs": [],
   "source": [
    "# Import the InsuranceAnalysis class from the scripts.insurance_analysis module\n",
    "from scripts.insurance_analysis import InsuranceAnalysis"
   ]
  },
  {
   "cell_type": "code",
   "execution_count": 42,
   "id": "1082bc91",
   "metadata": {},
   "outputs": [
    {
     "name": "stdout",
     "output_type": "stream",
     "text": [
      "Loading data from ../data/MachineLearningRating_v3.txt...\n"
     ]
    },
    {
     "name": "stderr",
     "output_type": "stream",
     "text": [
      "d:\\active_repos\\10_academy\\week-3-insurance-risk-analytics\\scripts\\insurance_analysis.py:43: DtypeWarning: Columns (32,37) have mixed types. Specify dtype option on import or set low_memory=False.\n",
      "  data = pd.read_csv(self.file_path, sep='|')\n"
     ]
    },
    {
     "name": "stdout",
     "output_type": "stream",
     "text": [
      "Data loaded successfully.\n"
     ]
    }
   ],
   "source": [
    "# Instantiate the InsuranceAnalysis class with the path to the data file and load the data\n",
    "analysis = InsuranceAnalysis('../data/MachineLearningRating_v3.txt')\n",
    "df = analysis.data\n"
   ]
  },
  {
   "cell_type": "code",
   "execution_count": 48,
   "id": "b76006f5",
   "metadata": {},
   "outputs": [
    {
     "name": "stdout",
     "output_type": "stream",
     "text": [
      "Data Shape: (1000024, 46)\n",
      "Data Summary:\n",
      "       UnderwrittenCoverID      PolicyID               TransactionMonth  \\\n",
      "count         1.000024e+06  1.000024e+06                        1000024   \n",
      "mean          1.048156e+05  7.956455e+03  2015-02-28 10:42:46.824796928   \n",
      "min           1.000000e+00  1.400000e+01            2013-10-01 00:00:00   \n",
      "25%           5.514100e+04  4.500000e+03            2015-01-01 00:00:00   \n",
      "50%           9.408000e+04  7.071000e+03            2015-04-01 00:00:00   \n",
      "75%           1.391910e+05  1.107700e+04            2015-06-01 00:00:00   \n",
      "max           3.011750e+05  2.324600e+04            2015-08-01 00:00:00   \n",
      "std           6.329558e+04  5.290155e+03                            NaN   \n",
      "\n",
      "         PostalCode        mmcode  RegistrationYear      Cylinders  \\\n",
      "count  1.000024e+06  9.994720e+05      1.000024e+06  999472.000000   \n",
      "mean   3.020286e+03  5.487732e+07      2.010226e+03       4.046646   \n",
      "min    1.000000e+00  4.041200e+06      1.987000e+03       0.000000   \n",
      "25%    8.270000e+02  6.005692e+07      2.008000e+03       4.000000   \n",
      "50%    2.000000e+03  6.005842e+07      2.011000e+03       4.000000   \n",
      "75%    4.180000e+03  6.005842e+07      2.013000e+03       4.000000   \n",
      "max    9.870000e+03  6.506535e+07      2.015000e+03      10.000000   \n",
      "std    2.649677e+03  1.360424e+07      3.261314e+00       0.294031   \n",
      "\n",
      "       cubiccapacity      kilowatts  NumberOfDoors  \\\n",
      "count  999472.000000  999472.000000  999472.000000   \n",
      "mean     2466.726433      97.206898       4.019251   \n",
      "min         0.000000       0.000000       0.000000   \n",
      "25%      2237.000000      75.000000       4.000000   \n",
      "50%      2694.000000     111.000000       4.000000   \n",
      "75%      2694.000000     111.000000       4.000000   \n",
      "max     12880.000000     309.000000       6.000000   \n",
      "std       442.812714      19.393610       0.468332   \n",
      "\n",
      "                    VehicleIntroDate    SumInsured  CalculatedPremiumPerTerm  \\\n",
      "count                         999472  1.000024e+06              1.000024e+06   \n",
      "mean   2008-04-20 17:22:23.422927872  6.041773e+05              1.178776e+02   \n",
      "min              1977-10-01 00:00:00  1.000000e-02              0.000000e+00   \n",
      "25%              2007-11-01 00:00:00  5.000000e+03              3.224800e+00   \n",
      "50%              2010-10-01 00:00:00  7.500000e+03              8.436900e+00   \n",
      "75%              2012-04-01 00:00:00  2.500000e+05              9.000000e+01   \n",
      "max              2014-09-01 00:00:00  1.263620e+07              7.442217e+04   \n",
      "std                              NaN  1.508336e+06              3.997141e+02   \n",
      "\n",
      "       TotalPremium   TotalClaims  \n",
      "count  1.000024e+06  1.000024e+06  \n",
      "mean   6.191003e+01  6.486599e+01  \n",
      "min   -7.825768e+02 -1.200241e+04  \n",
      "25%    0.000000e+00  0.000000e+00  \n",
      "50%    2.178333e+00  0.000000e+00  \n",
      "75%    2.192982e+01  0.000000e+00  \n",
      "max    6.528260e+04  3.930921e+05  \n",
      "std    2.302924e+02  2.384163e+03  \n",
      "\n",
      "Data Types:\n",
      "UnderwrittenCoverID: int64\n",
      "PolicyID: int64\n",
      "TransactionMonth: datetime64[ns]\n",
      "IsVATRegistered: bool\n",
      "Citizenship: object\n",
      "LegalType: object\n",
      "Title: object\n",
      "Language: object\n",
      "Bank: object\n",
      "AccountType: object\n",
      "MaritalStatus: object\n",
      "Gender: object\n",
      "Country: object\n",
      "Province: object\n",
      "PostalCode: int64\n",
      "MainCrestaZone: object\n",
      "SubCrestaZone: object\n",
      "ItemType: object\n",
      "mmcode: float64\n",
      "VehicleType: object\n",
      "RegistrationYear: int64\n",
      "make: object\n",
      "Model: object\n",
      "Cylinders: float64\n",
      "cubiccapacity: float64\n",
      "kilowatts: float64\n",
      "bodytype: object\n",
      "NumberOfDoors: float64\n",
      "VehicleIntroDate: datetime64[ns]\n",
      "AlarmImmobiliser: object\n",
      "TrackingDevice: object\n",
      "CapitalOutstanding: object\n",
      "NewVehicle: object\n",
      "SumInsured: float64\n",
      "TermFrequency: object\n",
      "CalculatedPremiumPerTerm: float64\n",
      "ExcessSelected: object\n",
      "CoverCategory: object\n",
      "CoverType: object\n",
      "CoverGroup: object\n",
      "Section: object\n",
      "Product: object\n",
      "StatutoryClass: object\n",
      "StatutoryRiskType: object\n",
      "TotalPremium: float64\n",
      "TotalClaims: float64\n",
      "\n",
      "Data Types:\n",
      "UnderwrittenCoverID                  int64\n",
      "PolicyID                             int64\n",
      "TransactionMonth            datetime64[ns]\n",
      "IsVATRegistered                       bool\n",
      "Citizenship                         object\n",
      "LegalType                           object\n",
      "Title                               object\n",
      "Language                            object\n",
      "Bank                                object\n",
      "AccountType                         object\n",
      "MaritalStatus                       object\n",
      "Gender                              object\n",
      "Country                             object\n",
      "Province                            object\n",
      "PostalCode                           int64\n",
      "MainCrestaZone                      object\n",
      "SubCrestaZone                       object\n",
      "ItemType                            object\n",
      "mmcode                             float64\n",
      "VehicleType                         object\n",
      "RegistrationYear                     int64\n",
      "make                                object\n",
      "Model                               object\n",
      "Cylinders                          float64\n",
      "cubiccapacity                      float64\n",
      "kilowatts                          float64\n",
      "bodytype                            object\n",
      "NumberOfDoors                      float64\n",
      "VehicleIntroDate            datetime64[ns]\n",
      "AlarmImmobiliser                    object\n",
      "TrackingDevice                      object\n",
      "CapitalOutstanding                  object\n",
      "NewVehicle                          object\n",
      "SumInsured                         float64\n",
      "TermFrequency                       object\n",
      "CalculatedPremiumPerTerm           float64\n",
      "ExcessSelected                      object\n",
      "CoverCategory                       object\n",
      "CoverType                           object\n",
      "CoverGroup                          object\n",
      "Section                             object\n",
      "Product                             object\n",
      "StatutoryClass                      object\n",
      "StatutoryRiskType                   object\n",
      "TotalPremium                       float64\n",
      "TotalClaims                        float64\n",
      "dtype: object\n"
     ]
    }
   ],
   "source": [
    "analysis.summarize_data()"
   ]
  },
  {
   "cell_type": "code",
   "execution_count": 49,
   "id": "41a5a308",
   "metadata": {},
   "outputs": [
    {
     "name": "stdout",
     "output_type": "stream",
     "text": [
      "\n",
      "Total Columns with Missing Values:\n",
      "16\n",
      "\n",
      "Missing Values:\n",
      "Bank                  145961\n",
      "AccountType            40232\n",
      "MaritalStatus           8259\n",
      "Gender                  9536\n",
      "mmcode                   552\n",
      "VehicleType              552\n",
      "make                     552\n",
      "Model                    552\n",
      "Cylinders                552\n",
      "cubiccapacity            552\n",
      "kilowatts                552\n",
      "bodytype                 552\n",
      "NumberOfDoors            552\n",
      "VehicleIntroDate         552\n",
      "CapitalOutstanding         2\n",
      "NewVehicle            153295\n",
      "dtype: int64\n",
      "\n",
      "Duplicate Rows:\n",
      "0\n",
      "No duplicate rows found.\n"
     ]
    }
   ],
   "source": [
    "# Check for missing values and duplicates in the dataset\n",
    "analysis.check_missing_values()\n",
    "\n",
    "analysis.check_duplicates()"
   ]
  },
  {
   "cell_type": "code",
   "execution_count": 50,
   "id": "b18799b3",
   "metadata": {},
   "outputs": [
    {
     "name": "stdout",
     "output_type": "stream",
     "text": [
      "Converted VehicleIntroDate to datetime format.\n",
      "Converted TransactionMonth to datetime format.\n"
     ]
    },
    {
     "name": "stderr",
     "output_type": "stream",
     "text": [
      "<string>:15: FutureWarning: A value is trying to be set on a copy of a DataFrame or Series through chained assignment using an inplace method.\n",
      "The behavior will change in pandas 3.0. This inplace method will never work because the intermediate object on which we are setting values always behaves as a copy.\n",
      "\n",
      "For example, when doing 'df[col].method(value, inplace=True)', try using 'df.method({col: value}, inplace=True)' or df[col] = df[col].method(value) instead, to perform the operation inplace on the original object.\n",
      "\n",
      "\n"
     ]
    },
    {
     "name": "stdout",
     "output_type": "stream",
     "text": [
      "Filled missing values in Bank with mode: First National Bank\n",
      "Filled missing values in AccountType with mode: Current account\n",
      "Filled missing values in MaritalStatus with mode: Not specified\n",
      "Filled missing values in Gender with mode: Not specified\n",
      "Filled missing values in mmcode with median: 60058415.0\n"
     ]
    },
    {
     "name": "stderr",
     "output_type": "stream",
     "text": [
      "<string>:21: FutureWarning: A value is trying to be set on a copy of a DataFrame or Series through chained assignment using an inplace method.\n",
      "The behavior will change in pandas 3.0. This inplace method will never work because the intermediate object on which we are setting values always behaves as a copy.\n",
      "\n",
      "For example, when doing 'df[col].method(value, inplace=True)', try using 'df.method({col: value}, inplace=True)' or df[col] = df[col].method(value) instead, to perform the operation inplace on the original object.\n",
      "\n",
      "\n",
      "<string>:15: FutureWarning: A value is trying to be set on a copy of a DataFrame or Series through chained assignment using an inplace method.\n",
      "The behavior will change in pandas 3.0. This inplace method will never work because the intermediate object on which we are setting values always behaves as a copy.\n",
      "\n",
      "For example, when doing 'df[col].method(value, inplace=True)', try using 'df.method({col: value}, inplace=True)' or df[col] = df[col].method(value) instead, to perform the operation inplace on the original object.\n",
      "\n",
      "\n"
     ]
    },
    {
     "name": "stdout",
     "output_type": "stream",
     "text": [
      "Filled missing values in VehicleType with mode: Passenger Vehicle\n",
      "Filled missing values in make with mode: TOYOTA\n",
      "Filled missing values in Model with mode: QUANTUM 2.7 SESFIKILE 16s\n",
      "Filled missing values in Cylinders with median: 4.0\n",
      "Filled missing values in cubiccapacity with median: 2694.0\n",
      "Filled missing values in kilowatts with median: 111.0\n",
      "Filled missing values in bodytype with mode: B/S\n",
      "Filled missing values in NumberOfDoors with median: 4.0\n",
      "Filled missing values in VehicleIntroDate with median: 2010-10-01 00:00:00\n"
     ]
    },
    {
     "name": "stderr",
     "output_type": "stream",
     "text": [
      "<string>:21: FutureWarning: A value is trying to be set on a copy of a DataFrame or Series through chained assignment using an inplace method.\n",
      "The behavior will change in pandas 3.0. This inplace method will never work because the intermediate object on which we are setting values always behaves as a copy.\n",
      "\n",
      "For example, when doing 'df[col].method(value, inplace=True)', try using 'df.method({col: value}, inplace=True)' or df[col] = df[col].method(value) instead, to perform the operation inplace on the original object.\n",
      "\n",
      "\n",
      "<string>:21: FutureWarning: A value is trying to be set on a copy of a DataFrame or Series through chained assignment using an inplace method.\n",
      "The behavior will change in pandas 3.0. This inplace method will never work because the intermediate object on which we are setting values always behaves as a copy.\n",
      "\n",
      "For example, when doing 'df[col].method(value, inplace=True)', try using 'df.method({col: value}, inplace=True)' or df[col] = df[col].method(value) instead, to perform the operation inplace on the original object.\n",
      "\n",
      "\n",
      "<string>:21: FutureWarning: A value is trying to be set on a copy of a DataFrame or Series through chained assignment using an inplace method.\n",
      "The behavior will change in pandas 3.0. This inplace method will never work because the intermediate object on which we are setting values always behaves as a copy.\n",
      "\n",
      "For example, when doing 'df[col].method(value, inplace=True)', try using 'df.method({col: value}, inplace=True)' or df[col] = df[col].method(value) instead, to perform the operation inplace on the original object.\n",
      "\n",
      "\n",
      "<string>:15: FutureWarning: A value is trying to be set on a copy of a DataFrame or Series through chained assignment using an inplace method.\n",
      "The behavior will change in pandas 3.0. This inplace method will never work because the intermediate object on which we are setting values always behaves as a copy.\n",
      "\n",
      "For example, when doing 'df[col].method(value, inplace=True)', try using 'df.method({col: value}, inplace=True)' or df[col] = df[col].method(value) instead, to perform the operation inplace on the original object.\n",
      "\n",
      "\n",
      "<string>:21: FutureWarning: A value is trying to be set on a copy of a DataFrame or Series through chained assignment using an inplace method.\n",
      "The behavior will change in pandas 3.0. This inplace method will never work because the intermediate object on which we are setting values always behaves as a copy.\n",
      "\n",
      "For example, when doing 'df[col].method(value, inplace=True)', try using 'df.method({col: value}, inplace=True)' or df[col] = df[col].method(value) instead, to perform the operation inplace on the original object.\n",
      "\n",
      "\n",
      "<string>:21: FutureWarning: A value is trying to be set on a copy of a DataFrame or Series through chained assignment using an inplace method.\n",
      "The behavior will change in pandas 3.0. This inplace method will never work because the intermediate object on which we are setting values always behaves as a copy.\n",
      "\n",
      "For example, when doing 'df[col].method(value, inplace=True)', try using 'df.method({col: value}, inplace=True)' or df[col] = df[col].method(value) instead, to perform the operation inplace on the original object.\n",
      "\n",
      "\n",
      "<string>:15: FutureWarning: A value is trying to be set on a copy of a DataFrame or Series through chained assignment using an inplace method.\n",
      "The behavior will change in pandas 3.0. This inplace method will never work because the intermediate object on which we are setting values always behaves as a copy.\n",
      "\n",
      "For example, when doing 'df[col].method(value, inplace=True)', try using 'df.method({col: value}, inplace=True)' or df[col] = df[col].method(value) instead, to perform the operation inplace on the original object.\n",
      "\n",
      "\n"
     ]
    },
    {
     "name": "stdout",
     "output_type": "stream",
     "text": [
      "Filled missing values in CapitalOutstanding with mode: 0\n",
      "Filled missing values in NewVehicle with mode: More than 6 months\n"
     ]
    }
   ],
   "source": [
    "analysis.clean_data()"
   ]
  },
  {
   "cell_type": "code",
   "execution_count": 51,
   "id": "e1e13ff7",
   "metadata": {},
   "outputs": [
    {
     "name": "stdout",
     "output_type": "stream",
     "text": [
      "\n",
      "Total Columns with Missing Values:\n",
      "0\n",
      "\n",
      "Missing Values:\n",
      "Series([], dtype: int64)\n",
      "\n",
      "Duplicate Rows:\n",
      "0\n",
      "No duplicate rows found.\n"
     ]
    }
   ],
   "source": [
    "# Check for missing values and duplicates in the dataset\n",
    "analysis.check_missing_values()\n",
    "\n",
    "analysis.check_duplicates()"
   ]
  },
  {
   "cell_type": "code",
   "execution_count": 47,
   "id": "a78a765e",
   "metadata": {},
   "outputs": [
    {
     "name": "stdout",
     "output_type": "stream",
     "text": [
      "Cleaned data exported to ../data/insurance_cleaned.csv.\n"
     ]
    }
   ],
   "source": [
    "analysis.export_cleaned_data('../data/insurance_cleaned.csv')"
   ]
  }
 ],
 "metadata": {
  "kernelspec": {
   "display_name": ".venv",
   "language": "python",
   "name": "python3"
  },
  "language_info": {
   "codemirror_mode": {
    "name": "ipython",
    "version": 3
   },
   "file_extension": ".py",
   "mimetype": "text/x-python",
   "name": "python",
   "nbconvert_exporter": "python",
   "pygments_lexer": "ipython3",
   "version": "3.13.3"
  }
 },
 "nbformat": 4,
 "nbformat_minor": 5
}
