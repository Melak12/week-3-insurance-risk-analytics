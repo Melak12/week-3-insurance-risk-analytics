{
 "cells": [
  {
   "cell_type": "code",
   "execution_count": null,
   "id": "80979759",
   "metadata": {},
   "outputs": [],
   "source": [
    "# load the autoreload extension for IPython\n",
    "# This allows you to automatically reload modules before executing code\n",
    "%load_ext autoreload\n",
    "%autoreload 2\n",
    "\n",
    "import sys\n",
    "import os\n",
    "\n",
    "# Add the parent directory to the system path\n",
    "sys.path.append(os.path.abspath(os.path.join('..')))"
   ]
  }
 ],
 "metadata": {
  "language_info": {
   "name": "python"
  }
 },
 "nbformat": 4,
 "nbformat_minor": 5
}
