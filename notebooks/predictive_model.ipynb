{
 "cells": [
  {
   "cell_type": "code",
   "execution_count": 1,
   "id": "80979759",
   "metadata": {},
   "outputs": [],
   "source": [
    "# load the autoreload extension for IPython\n",
    "# This allows you to automatically reload modules before executing code\n",
    "%load_ext autoreload\n",
    "%autoreload 2\n",
    "\n",
    "import sys\n",
    "import os\n",
    "\n",
    "# Add the parent directory to the system path\n",
    "sys.path.append(os.path.abspath(os.path.join('..')))"
   ]
  },
  {
   "cell_type": "markdown",
   "id": "babb54b9",
   "metadata": {},
   "source": [
    "### Data Loading and Module Creation"
   ]
  },
  {
   "cell_type": "code",
   "execution_count": 2,
   "id": "557493e0",
   "metadata": {},
   "outputs": [],
   "source": [
    "# Import the InsurancePredictionModel from the scripts.insurance_prediction module\n",
    "from scripts.insurance_prediction import InsurancePredictionModel"
   ]
  },
  {
   "cell_type": "code",
   "execution_count": null,
   "id": "e07abffa",
   "metadata": {},
   "outputs": [
    {
     "name": "stdout",
     "output_type": "stream",
     "text": [
      "Loading data from ../data/MachineLearningRating_v3.txt...\n"
     ]
    },
    {
     "name": "stderr",
     "output_type": "stream",
     "text": [
      "d:\\active_repos\\10_academy\\week-3-insurance-risk-analytics\\scripts\\insurance_prediction.py:35: DtypeWarning: Columns (32,37) have mixed types. Specify dtype option on import or set low_memory=False.\n",
      "  data = pd.read_csv(self.file_path, sep='|')\n"
     ]
    },
    {
     "name": "stdout",
     "output_type": "stream",
     "text": [
      "Data loaded successfully.\n"
     ]
    }
   ],
   "source": [
    "# Create an instance of the InsurancePredictionModel\n",
    "# Provide the path to the data file as an argument\n",
    "prediction = InsurancePredictionModel('../data/MachineLearningRating_v3.txt')\n",
    "df = prediction.df"
   ]
  },
  {
   "cell_type": "markdown",
   "id": "d62c1428",
   "metadata": {},
   "source": [
    "### Data Pre-Processing"
   ]
  },
  {
   "cell_type": "code",
   "execution_count": null,
   "id": "3e2bfb93",
   "metadata": {},
   "outputs": [
    {
     "ename": "AttributeError",
     "evalue": "'InsurancePredictionModel' object has no attribute 'handle_missing_values'",
     "output_type": "error",
     "traceback": [
      "\u001b[31m---------------------------------------------------------------------------\u001b[39m",
      "\u001b[31mAttributeError\u001b[39m                            Traceback (most recent call last)",
      "\u001b[36mCell\u001b[39m\u001b[36m \u001b[39m\u001b[32mIn[4]\u001b[39m\u001b[32m, line 2\u001b[39m\n\u001b[32m      1\u001b[39m \u001b[38;5;66;03m# handle missing values in the DataFrame\u001b[39;00m\n\u001b[32m----> \u001b[39m\u001b[32m2\u001b[39m df = \u001b[43mprediction\u001b[49m\u001b[43m.\u001b[49m\u001b[43mhandle_missing_values\u001b[49m()\n\u001b[32m      3\u001b[39m prediction.check_missing_values()\n",
      "\u001b[31mAttributeError\u001b[39m: 'InsurancePredictionModel' object has no attribute 'handle_missing_values'"
     ]
    }
   ],
   "source": [
    "# handle missing values in the DataFrame\n",
    "df = prediction.handle_missing_data()\n",
    "prediction.check_missing_values()"
   ]
  }
 ],
 "metadata": {
  "kernelspec": {
   "display_name": ".venv",
   "language": "python",
   "name": "python3"
  },
  "language_info": {
   "codemirror_mode": {
    "name": "ipython",
    "version": 3
   },
   "file_extension": ".py",
   "mimetype": "text/x-python",
   "name": "python",
   "nbconvert_exporter": "python",
   "pygments_lexer": "ipython3",
   "version": "3.13.5"
  }
 },
 "nbformat": 4,
 "nbformat_minor": 5
}
