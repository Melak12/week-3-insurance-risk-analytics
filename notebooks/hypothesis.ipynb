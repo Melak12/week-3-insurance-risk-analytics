{
 "cells": [
  {
   "cell_type": "code",
   "execution_count": 1,
   "id": "51cb9386",
   "metadata": {},
   "outputs": [],
   "source": [
    "# load the autoreload extension for IPython\n",
    "# This allows you to automatically reload modules before executing code\n",
    "%load_ext autoreload\n",
    "%autoreload 2\n",
    "\n",
    "import sys\n",
    "import os\n",
    "\n",
    "# Add the parent directory to the system path\n",
    "sys.path.append(os.path.abspath(os.path.join('..')))"
   ]
  },
  {
   "cell_type": "markdown",
   "id": "4fdfd4ad",
   "metadata": {},
   "source": [
    "# Hypothesis Testing for Insurance Risk Drivers\n",
    "This notebook statistically validates or rejects key hypotheses about risk drivers, using the cleaned insurance dataset. We use modular functions from `scripts/hypothesis_testing.py` for all calculations and tests."
   ]
  },
  {
   "cell_type": "code",
   "execution_count": 2,
   "id": "df598798",
   "metadata": {},
   "outputs": [],
   "source": [
    "# Import required libraries and hypothesis testing functions\n",
    "import pandas as pd\n",
    "import sys\n",
    "sys.path.append('../scripts')\n",
    "from hypothesis_testing import compute_metrics, test_hypothesis"
   ]
  },
  {
   "cell_type": "markdown",
   "id": "31de1de6",
   "metadata": {},
   "source": [
    "## 1. Load and Prepare Data\n",
    "We use the cleaned insurance dataset: `data/insurance_cleaned.csv`."
   ]
  },
  {
   "cell_type": "code",
   "execution_count": 3,
   "id": "acd71d17",
   "metadata": {},
   "outputs": [
    {
     "name": "stderr",
     "output_type": "stream",
     "text": [
      "C:\\Users\\wubsh\\AppData\\Local\\Temp\\ipykernel_7376\\2220584919.py:2: DtypeWarning: Columns (31) have mixed types. Specify dtype option on import or set low_memory=False.\n",
      "  df = pd.read_csv('../data/insurance_cleaned.csv')\n"
     ]
    },
    {
     "data": {
      "application/vnd.microsoft.datawrangler.viewer.v0+json": {
       "columns": [
        {
         "name": "index",
         "rawType": "int64",
         "type": "integer"
        },
        {
         "name": "UnderwrittenCoverID",
         "rawType": "int64",
         "type": "integer"
        },
        {
         "name": "PolicyID",
         "rawType": "int64",
         "type": "integer"
        },
        {
         "name": "TransactionMonth",
         "rawType": "object",
         "type": "string"
        },
        {
         "name": "IsVATRegistered",
         "rawType": "bool",
         "type": "boolean"
        },
        {
         "name": "Citizenship",
         "rawType": "object",
         "type": "string"
        },
        {
         "name": "LegalType",
         "rawType": "object",
         "type": "string"
        },
        {
         "name": "Title",
         "rawType": "object",
         "type": "string"
        },
        {
         "name": "Language",
         "rawType": "object",
         "type": "string"
        },
        {
         "name": "Bank",
         "rawType": "object",
         "type": "string"
        },
        {
         "name": "AccountType",
         "rawType": "object",
         "type": "string"
        },
        {
         "name": "MaritalStatus",
         "rawType": "object",
         "type": "string"
        },
        {
         "name": "Gender",
         "rawType": "object",
         "type": "string"
        },
        {
         "name": "Country",
         "rawType": "object",
         "type": "string"
        },
        {
         "name": "Province",
         "rawType": "object",
         "type": "string"
        },
        {
         "name": "PostalCode",
         "rawType": "int64",
         "type": "integer"
        },
        {
         "name": "MainCrestaZone",
         "rawType": "object",
         "type": "string"
        },
        {
         "name": "SubCrestaZone",
         "rawType": "object",
         "type": "string"
        },
        {
         "name": "ItemType",
         "rawType": "object",
         "type": "string"
        },
        {
         "name": "mmcode",
         "rawType": "float64",
         "type": "float"
        },
        {
         "name": "VehicleType",
         "rawType": "object",
         "type": "string"
        },
        {
         "name": "RegistrationYear",
         "rawType": "int64",
         "type": "integer"
        },
        {
         "name": "make",
         "rawType": "object",
         "type": "string"
        },
        {
         "name": "Model",
         "rawType": "object",
         "type": "string"
        },
        {
         "name": "Cylinders",
         "rawType": "float64",
         "type": "float"
        },
        {
         "name": "cubiccapacity",
         "rawType": "float64",
         "type": "float"
        },
        {
         "name": "kilowatts",
         "rawType": "float64",
         "type": "float"
        },
        {
         "name": "bodytype",
         "rawType": "object",
         "type": "string"
        },
        {
         "name": "NumberOfDoors",
         "rawType": "float64",
         "type": "float"
        },
        {
         "name": "VehicleIntroDate",
         "rawType": "object",
         "type": "string"
        },
        {
         "name": "AlarmImmobiliser",
         "rawType": "object",
         "type": "string"
        },
        {
         "name": "TrackingDevice",
         "rawType": "object",
         "type": "string"
        },
        {
         "name": "CapitalOutstanding",
         "rawType": "object",
         "type": "unknown"
        },
        {
         "name": "NewVehicle",
         "rawType": "object",
         "type": "string"
        },
        {
         "name": "SumInsured",
         "rawType": "float64",
         "type": "float"
        },
        {
         "name": "TermFrequency",
         "rawType": "object",
         "type": "string"
        },
        {
         "name": "CalculatedPremiumPerTerm",
         "rawType": "float64",
         "type": "float"
        },
        {
         "name": "ExcessSelected",
         "rawType": "object",
         "type": "string"
        },
        {
         "name": "CoverCategory",
         "rawType": "object",
         "type": "string"
        },
        {
         "name": "CoverType",
         "rawType": "object",
         "type": "string"
        },
        {
         "name": "CoverGroup",
         "rawType": "object",
         "type": "string"
        },
        {
         "name": "Section",
         "rawType": "object",
         "type": "string"
        },
        {
         "name": "Product",
         "rawType": "object",
         "type": "string"
        },
        {
         "name": "StatutoryClass",
         "rawType": "object",
         "type": "string"
        },
        {
         "name": "StatutoryRiskType",
         "rawType": "object",
         "type": "string"
        },
        {
         "name": "TotalPremium",
         "rawType": "float64",
         "type": "float"
        },
        {
         "name": "TotalClaims",
         "rawType": "float64",
         "type": "float"
        },
        {
         "name": "ClaimFrequency",
         "rawType": "int64",
         "type": "integer"
        },
        {
         "name": "NumClaims",
         "rawType": "int64",
         "type": "integer"
        },
        {
         "name": "ClaimSeverity",
         "rawType": "float64",
         "type": "float"
        },
        {
         "name": "Margin",
         "rawType": "float64",
         "type": "float"
        }
       ],
       "ref": "d29e60d0-e6a7-4c0b-9f6e-823e97a7670f",
       "rows": [
        [
         "0",
         "145249",
         "12827",
         "2015-03-01",
         "True",
         "  ",
         "Close Corporation",
         "Mr",
         "English",
         "First National Bank",
         "Current account",
         "Not specified",
         "Not specified",
         "South Africa",
         "Gauteng",
         "1459",
         "Rand East",
         "Rand East",
         "Mobility - Motor",
         "44069150.0",
         "Passenger Vehicle",
         "2004",
         "MERCEDES-BENZ",
         "E 240",
         "6.0",
         "2597.0",
         "130.0",
         "S/D",
         "4.0",
         "2002-06-01",
         "Yes",
         "No",
         "119300",
         "More than 6 months",
         "0.01",
         "Monthly",
         "25.0",
         "Mobility - Windscreen",
         "Windscreen",
         "Windscreen",
         "Comprehensive - Taxi",
         "Motor Comprehensive",
         "Mobility Metered Taxis: Monthly",
         "Commercial",
         "IFRS Constant",
         "21.929824561403",
         "0.0",
         "0",
         "0",
         "0.0",
         "21.929824561403"
        ],
        [
         "1",
         "145249",
         "12827",
         "2015-05-01",
         "True",
         "  ",
         "Close Corporation",
         "Mr",
         "English",
         "First National Bank",
         "Current account",
         "Not specified",
         "Not specified",
         "South Africa",
         "Gauteng",
         "1459",
         "Rand East",
         "Rand East",
         "Mobility - Motor",
         "44069150.0",
         "Passenger Vehicle",
         "2004",
         "MERCEDES-BENZ",
         "E 240",
         "6.0",
         "2597.0",
         "130.0",
         "S/D",
         "4.0",
         "2002-06-01",
         "Yes",
         "No",
         "119300",
         "More than 6 months",
         "0.01",
         "Monthly",
         "25.0",
         "Mobility - Windscreen",
         "Windscreen",
         "Windscreen",
         "Comprehensive - Taxi",
         "Motor Comprehensive",
         "Mobility Metered Taxis: Monthly",
         "Commercial",
         "IFRS Constant",
         "21.929824561403",
         "0.0",
         "0",
         "0",
         "0.0",
         "21.929824561403"
        ],
        [
         "2",
         "145249",
         "12827",
         "2015-07-01",
         "True",
         "  ",
         "Close Corporation",
         "Mr",
         "English",
         "First National Bank",
         "Current account",
         "Not specified",
         "Not specified",
         "South Africa",
         "Gauteng",
         "1459",
         "Rand East",
         "Rand East",
         "Mobility - Motor",
         "44069150.0",
         "Passenger Vehicle",
         "2004",
         "MERCEDES-BENZ",
         "E 240",
         "6.0",
         "2597.0",
         "130.0",
         "S/D",
         "4.0",
         "2002-06-01",
         "Yes",
         "No",
         "119300",
         "More than 6 months",
         "0.01",
         "Monthly",
         "25.0",
         "Mobility - Windscreen",
         "Windscreen",
         "Windscreen",
         "Comprehensive - Taxi",
         "Motor Comprehensive",
         "Mobility Metered Taxis: Monthly",
         "Commercial",
         "IFRS Constant",
         "0.0",
         "0.0",
         "0",
         "0",
         "0.0",
         "0.0"
        ],
        [
         "3",
         "145255",
         "12827",
         "2015-05-01",
         "True",
         "  ",
         "Close Corporation",
         "Mr",
         "English",
         "First National Bank",
         "Current account",
         "Not specified",
         "Not specified",
         "South Africa",
         "Gauteng",
         "1459",
         "Rand East",
         "Rand East",
         "Mobility - Motor",
         "44069150.0",
         "Passenger Vehicle",
         "2004",
         "MERCEDES-BENZ",
         "E 240",
         "6.0",
         "2597.0",
         "130.0",
         "S/D",
         "4.0",
         "2002-06-01",
         "Yes",
         "No",
         "119300",
         "More than 6 months",
         "119300.0",
         "Monthly",
         "584.6468",
         "Mobility - Metered Taxis - R2000",
         "Own damage",
         "Own Damage",
         "Comprehensive - Taxi",
         "Motor Comprehensive",
         "Mobility Metered Taxis: Monthly",
         "Commercial",
         "IFRS Constant",
         "512.848070175439",
         "0.0",
         "0",
         "0",
         "0.0",
         "512.848070175439"
        ],
        [
         "4",
         "145255",
         "12827",
         "2015-07-01",
         "True",
         "  ",
         "Close Corporation",
         "Mr",
         "English",
         "First National Bank",
         "Current account",
         "Not specified",
         "Not specified",
         "South Africa",
         "Gauteng",
         "1459",
         "Rand East",
         "Rand East",
         "Mobility - Motor",
         "44069150.0",
         "Passenger Vehicle",
         "2004",
         "MERCEDES-BENZ",
         "E 240",
         "6.0",
         "2597.0",
         "130.0",
         "S/D",
         "4.0",
         "2002-06-01",
         "Yes",
         "No",
         "119300",
         "More than 6 months",
         "119300.0",
         "Monthly",
         "584.6468",
         "Mobility - Metered Taxis - R2000",
         "Own damage",
         "Own Damage",
         "Comprehensive - Taxi",
         "Motor Comprehensive",
         "Mobility Metered Taxis: Monthly",
         "Commercial",
         "IFRS Constant",
         "0.0",
         "0.0",
         "0",
         "0",
         "0.0",
         "0.0"
        ]
       ],
       "shape": {
        "columns": 50,
        "rows": 5
       }
      },
      "text/html": [
       "<div>\n",
       "<style scoped>\n",
       "    .dataframe tbody tr th:only-of-type {\n",
       "        vertical-align: middle;\n",
       "    }\n",
       "\n",
       "    .dataframe tbody tr th {\n",
       "        vertical-align: top;\n",
       "    }\n",
       "\n",
       "    .dataframe thead th {\n",
       "        text-align: right;\n",
       "    }\n",
       "</style>\n",
       "<table border=\"1\" class=\"dataframe\">\n",
       "  <thead>\n",
       "    <tr style=\"text-align: right;\">\n",
       "      <th></th>\n",
       "      <th>UnderwrittenCoverID</th>\n",
       "      <th>PolicyID</th>\n",
       "      <th>TransactionMonth</th>\n",
       "      <th>IsVATRegistered</th>\n",
       "      <th>Citizenship</th>\n",
       "      <th>LegalType</th>\n",
       "      <th>Title</th>\n",
       "      <th>Language</th>\n",
       "      <th>Bank</th>\n",
       "      <th>AccountType</th>\n",
       "      <th>...</th>\n",
       "      <th>Section</th>\n",
       "      <th>Product</th>\n",
       "      <th>StatutoryClass</th>\n",
       "      <th>StatutoryRiskType</th>\n",
       "      <th>TotalPremium</th>\n",
       "      <th>TotalClaims</th>\n",
       "      <th>ClaimFrequency</th>\n",
       "      <th>NumClaims</th>\n",
       "      <th>ClaimSeverity</th>\n",
       "      <th>Margin</th>\n",
       "    </tr>\n",
       "  </thead>\n",
       "  <tbody>\n",
       "    <tr>\n",
       "      <th>0</th>\n",
       "      <td>145249</td>\n",
       "      <td>12827</td>\n",
       "      <td>2015-03-01</td>\n",
       "      <td>True</td>\n",
       "      <td></td>\n",
       "      <td>Close Corporation</td>\n",
       "      <td>Mr</td>\n",
       "      <td>English</td>\n",
       "      <td>First National Bank</td>\n",
       "      <td>Current account</td>\n",
       "      <td>...</td>\n",
       "      <td>Motor Comprehensive</td>\n",
       "      <td>Mobility Metered Taxis: Monthly</td>\n",
       "      <td>Commercial</td>\n",
       "      <td>IFRS Constant</td>\n",
       "      <td>21.929825</td>\n",
       "      <td>0.0</td>\n",
       "      <td>0</td>\n",
       "      <td>0</td>\n",
       "      <td>0.0</td>\n",
       "      <td>21.929825</td>\n",
       "    </tr>\n",
       "    <tr>\n",
       "      <th>1</th>\n",
       "      <td>145249</td>\n",
       "      <td>12827</td>\n",
       "      <td>2015-05-01</td>\n",
       "      <td>True</td>\n",
       "      <td></td>\n",
       "      <td>Close Corporation</td>\n",
       "      <td>Mr</td>\n",
       "      <td>English</td>\n",
       "      <td>First National Bank</td>\n",
       "      <td>Current account</td>\n",
       "      <td>...</td>\n",
       "      <td>Motor Comprehensive</td>\n",
       "      <td>Mobility Metered Taxis: Monthly</td>\n",
       "      <td>Commercial</td>\n",
       "      <td>IFRS Constant</td>\n",
       "      <td>21.929825</td>\n",
       "      <td>0.0</td>\n",
       "      <td>0</td>\n",
       "      <td>0</td>\n",
       "      <td>0.0</td>\n",
       "      <td>21.929825</td>\n",
       "    </tr>\n",
       "    <tr>\n",
       "      <th>2</th>\n",
       "      <td>145249</td>\n",
       "      <td>12827</td>\n",
       "      <td>2015-07-01</td>\n",
       "      <td>True</td>\n",
       "      <td></td>\n",
       "      <td>Close Corporation</td>\n",
       "      <td>Mr</td>\n",
       "      <td>English</td>\n",
       "      <td>First National Bank</td>\n",
       "      <td>Current account</td>\n",
       "      <td>...</td>\n",
       "      <td>Motor Comprehensive</td>\n",
       "      <td>Mobility Metered Taxis: Monthly</td>\n",
       "      <td>Commercial</td>\n",
       "      <td>IFRS Constant</td>\n",
       "      <td>0.000000</td>\n",
       "      <td>0.0</td>\n",
       "      <td>0</td>\n",
       "      <td>0</td>\n",
       "      <td>0.0</td>\n",
       "      <td>0.000000</td>\n",
       "    </tr>\n",
       "    <tr>\n",
       "      <th>3</th>\n",
       "      <td>145255</td>\n",
       "      <td>12827</td>\n",
       "      <td>2015-05-01</td>\n",
       "      <td>True</td>\n",
       "      <td></td>\n",
       "      <td>Close Corporation</td>\n",
       "      <td>Mr</td>\n",
       "      <td>English</td>\n",
       "      <td>First National Bank</td>\n",
       "      <td>Current account</td>\n",
       "      <td>...</td>\n",
       "      <td>Motor Comprehensive</td>\n",
       "      <td>Mobility Metered Taxis: Monthly</td>\n",
       "      <td>Commercial</td>\n",
       "      <td>IFRS Constant</td>\n",
       "      <td>512.848070</td>\n",
       "      <td>0.0</td>\n",
       "      <td>0</td>\n",
       "      <td>0</td>\n",
       "      <td>0.0</td>\n",
       "      <td>512.848070</td>\n",
       "    </tr>\n",
       "    <tr>\n",
       "      <th>4</th>\n",
       "      <td>145255</td>\n",
       "      <td>12827</td>\n",
       "      <td>2015-07-01</td>\n",
       "      <td>True</td>\n",
       "      <td></td>\n",
       "      <td>Close Corporation</td>\n",
       "      <td>Mr</td>\n",
       "      <td>English</td>\n",
       "      <td>First National Bank</td>\n",
       "      <td>Current account</td>\n",
       "      <td>...</td>\n",
       "      <td>Motor Comprehensive</td>\n",
       "      <td>Mobility Metered Taxis: Monthly</td>\n",
       "      <td>Commercial</td>\n",
       "      <td>IFRS Constant</td>\n",
       "      <td>0.000000</td>\n",
       "      <td>0.0</td>\n",
       "      <td>0</td>\n",
       "      <td>0</td>\n",
       "      <td>0.0</td>\n",
       "      <td>0.000000</td>\n",
       "    </tr>\n",
       "  </tbody>\n",
       "</table>\n",
       "<p>5 rows × 50 columns</p>\n",
       "</div>"
      ],
      "text/plain": [
       "   UnderwrittenCoverID  PolicyID TransactionMonth  IsVATRegistered  \\\n",
       "0               145249     12827       2015-03-01             True   \n",
       "1               145249     12827       2015-05-01             True   \n",
       "2               145249     12827       2015-07-01             True   \n",
       "3               145255     12827       2015-05-01             True   \n",
       "4               145255     12827       2015-07-01             True   \n",
       "\n",
       "  Citizenship          LegalType Title Language                 Bank  \\\n",
       "0              Close Corporation    Mr  English  First National Bank   \n",
       "1              Close Corporation    Mr  English  First National Bank   \n",
       "2              Close Corporation    Mr  English  First National Bank   \n",
       "3              Close Corporation    Mr  English  First National Bank   \n",
       "4              Close Corporation    Mr  English  First National Bank   \n",
       "\n",
       "       AccountType  ...              Section                          Product  \\\n",
       "0  Current account  ...  Motor Comprehensive  Mobility Metered Taxis: Monthly   \n",
       "1  Current account  ...  Motor Comprehensive  Mobility Metered Taxis: Monthly   \n",
       "2  Current account  ...  Motor Comprehensive  Mobility Metered Taxis: Monthly   \n",
       "3  Current account  ...  Motor Comprehensive  Mobility Metered Taxis: Monthly   \n",
       "4  Current account  ...  Motor Comprehensive  Mobility Metered Taxis: Monthly   \n",
       "\n",
       "  StatutoryClass StatutoryRiskType  TotalPremium TotalClaims ClaimFrequency  \\\n",
       "0     Commercial     IFRS Constant     21.929825         0.0              0   \n",
       "1     Commercial     IFRS Constant     21.929825         0.0              0   \n",
       "2     Commercial     IFRS Constant      0.000000         0.0              0   \n",
       "3     Commercial     IFRS Constant    512.848070         0.0              0   \n",
       "4     Commercial     IFRS Constant      0.000000         0.0              0   \n",
       "\n",
       "  NumClaims  ClaimSeverity      Margin  \n",
       "0         0            0.0   21.929825  \n",
       "1         0            0.0   21.929825  \n",
       "2         0            0.0    0.000000  \n",
       "3         0            0.0  512.848070  \n",
       "4         0            0.0    0.000000  \n",
       "\n",
       "[5 rows x 50 columns]"
      ]
     },
     "execution_count": 3,
     "metadata": {},
     "output_type": "execute_result"
    }
   ],
   "source": [
    "# Load the cleaned insurance data\n",
    "df = pd.read_csv('../data/insurance_cleaned.csv')\n",
    "df = compute_metrics(df)\n",
    "df.head()"
   ]
  },
  {
   "cell_type": "markdown",
   "id": "bac6914a",
   "metadata": {},
   "source": [
    "## 2. Hypothesis 1: Risk Differences Across Provinces\n",
    "**Null Hypothesis (H₀):** There are no risk differences across provinces.\n",
    "\n",
    "We compare claim frequency and claim severity between two provinces with large sample sizes."
   ]
  },
  {
   "cell_type": "code",
   "execution_count": 4,
   "id": "3e8d9bd5",
   "metadata": {},
   "outputs": [
    {
     "name": "stdout",
     "output_type": "stream",
     "text": [
      "Claim Frequency: Reject the null hypothesis (p-value=0.0000 < 0.05). Statistically significant difference detected by z-test.\n",
      "Claim Severity: Fail to reject the null hypothesis (p-value=0.0627 >= 0.05). No statistically significant difference detected by t-test.\n",
      "Claim Severity: Fail to reject the null hypothesis (p-value=0.0627 >= 0.05). No statistically significant difference detected by t-test.\n"
     ]
    }
   ],
   "source": [
    "# Select two provinces with the most data for comparison\n",
    "province_counts = df['Province'].value_counts()\n",
    "prov_a, prov_b = province_counts.index[:2]\n",
    "\n",
    "# Test claim frequency (proportion z-test)\n",
    "result_freq = test_hypothesis(df, 'Province', prov_a, prov_b, 'ClaimFrequency', test_type='z-test')\n",
    "print(f\"Claim Frequency: {result_freq['conclusion']}\")\n",
    "\n",
    "# Test claim severity (t-test)\n",
    "result_sev = test_hypothesis(df, 'Province', prov_a, prov_b, 'ClaimSeverity', test_type='t-test')\n",
    "print(f\"Claim Severity: {result_sev['conclusion']}\")"
   ]
  },
  {
   "cell_type": "markdown",
   "id": "1971c961",
   "metadata": {},
   "source": [
    "## 3. Hypothesis 2: Risk Differences Between Zip Codes\n",
    "**Null Hypothesis (H₀):** There are no risk differences between zip codes.\n",
    "\n",
    "We compare claim frequency and margin between two zip codes with the most data."
   ]
  },
  {
   "cell_type": "code",
   "execution_count": 5,
   "id": "de80601d",
   "metadata": {},
   "outputs": [
    {
     "name": "stdout",
     "output_type": "stream",
     "text": [
      "Claim Frequency: Fail to reject the null hypothesis (p-value=0.0525 >= 0.05). No statistically significant difference detected by z-test.\n",
      "Margin: Fail to reject the null hypothesis (p-value=0.2445 >= 0.05). No statistically significant difference detected by t-test.\n"
     ]
    }
   ],
   "source": [
    "# Select two zip codes with the most data\n",
    "zip_counts = df['PostalCode'].value_counts()\n",
    "zip_a, zip_b = zip_counts.index[:2]\n",
    "\n",
    "# Test claim frequency (proportion z-test)\n",
    "result_zip_freq = test_hypothesis(df, 'PostalCode', zip_a, zip_b, 'ClaimFrequency', test_type='z-test')\n",
    "print(f\"Claim Frequency: {result_zip_freq['conclusion']}\")\n",
    "\n",
    "# Test margin (t-test)\n",
    "result_zip_margin = test_hypothesis(df, 'PostalCode', zip_a, zip_b, 'Margin', test_type='t-test')\n",
    "print(f\"Margin: {result_zip_margin['conclusion']}\")"
   ]
  },
  {
   "cell_type": "markdown",
   "id": "5e4e9d81",
   "metadata": {},
   "source": [
    "## 4. Hypothesis 3: Margin Differences Between Zip Codes\n",
    "**Null Hypothesis (H₀):** There are no significant margin (profit) differences between zip codes.\n",
    "\n",
    "We use the same two zip codes as above and test the margin."
   ]
  },
  {
   "cell_type": "code",
   "execution_count": 6,
   "id": "4c872620",
   "metadata": {},
   "outputs": [
    {
     "name": "stdout",
     "output_type": "stream",
     "text": [
      "Margin Difference Between Zip Codes: Fail to reject the null hypothesis (p-value=0.2445 >= 0.05). No statistically significant difference detected by t-test.\n"
     ]
    }
   ],
   "source": [
    "# Already tested margin above; print again for clarity\n",
    "print(f\"Margin Difference Between Zip Codes: {result_zip_margin['conclusion']}\")"
   ]
  },
  {
   "cell_type": "markdown",
   "id": "dcc84f8b",
   "metadata": {},
   "source": [
    "## 5. Hypothesis 4: Risk Differences Between Women and Men\n",
    "**Null Hypothesis (H₀):** There are not significant risk differences between Women and Men.\n",
    "\n",
    "We compare claim frequency and claim severity between genders."
   ]
  },
  {
   "cell_type": "code",
   "execution_count": 7,
   "id": "f76e6b50",
   "metadata": {},
   "outputs": [
    {
     "name": "stdout",
     "output_type": "stream",
     "text": [
      "Claim Frequency: Reject the null hypothesis (p-value=0.0166 < 0.05). Statistically significant difference detected by z-test.\n",
      "Claim Severity: Reject the null hypothesis (p-value=0.0000 < 0.05). Statistically significant difference detected by t-test.\n",
      "Claim Severity: Reject the null hypothesis (p-value=0.0000 < 0.05). Statistically significant difference detected by t-test.\n"
     ]
    }
   ],
   "source": [
    "# Ensure gender column is present and select two most common values\n",
    "if 'Gender' in df.columns:\n",
    "    gender_counts = df['Gender'].value_counts()\n",
    "    gender_a, gender_b = gender_counts.index[:2]\n",
    "    # Test claim frequency (proportion z-test)\n",
    "    result_gender_freq = test_hypothesis(df, 'Gender', gender_a, gender_b, 'ClaimFrequency', test_type='z-test')\n",
    "    print(f\"Claim Frequency: {result_gender_freq['conclusion']}\")\n",
    "    # Test claim severity (t-test)\n",
    "    result_gender_sev = test_hypothesis(df, 'Gender', gender_a, gender_b, 'ClaimSeverity', test_type='t-test')\n",
    "    print(f\"Claim Severity: {result_gender_sev['conclusion']}\")\n",
    "else:\n",
    "    print(\"Gender column not found in data.\")"
   ]
  },
  {
   "cell_type": "markdown",
   "id": "5f8edd80",
   "metadata": {},
   "source": [
    "## 6. Summary Table\n",
    "Below is a summary of the statistical test results for all hypotheses."
   ]
  },
  {
   "cell_type": "code",
   "execution_count": 8,
   "id": "a3b601ca",
   "metadata": {},
   "outputs": [
    {
     "data": {
      "application/vnd.microsoft.datawrangler.viewer.v0+json": {
       "columns": [
        {
         "name": "index",
         "rawType": "int64",
         "type": "integer"
        },
        {
         "name": "Hypothesis",
         "rawType": "object",
         "type": "string"
        },
        {
         "name": "Conclusion",
         "rawType": "object",
         "type": "string"
        }
       ],
       "ref": "52ca179c-002d-434a-87f4-218a0fac0e5c",
       "rows": [
        [
         "0",
         "Risk difference across provinces (Claim Frequency)",
         "Reject the null hypothesis (p-value=0.0000 < 0.05). Statistically significant difference detected by z-test."
        ],
        [
         "1",
         "Risk difference across provinces (Claim Severity)",
         "Fail to reject the null hypothesis (p-value=0.0627 >= 0.05). No statistically significant difference detected by t-test."
        ],
        [
         "2",
         "Risk difference between zip codes (Claim Frequency)",
         "Fail to reject the null hypothesis (p-value=0.0525 >= 0.05). No statistically significant difference detected by z-test."
        ],
        [
         "3",
         "Margin difference between zip codes",
         "Fail to reject the null hypothesis (p-value=0.2445 >= 0.05). No statistically significant difference detected by t-test."
        ],
        [
         "4",
         "Risk difference between Women and Men (Claim Frequency)",
         "Reject the null hypothesis (p-value=0.0166 < 0.05). Statistically significant difference detected by z-test."
        ],
        [
         "5",
         "Risk difference between Women and Men (Claim Severity)",
         "Reject the null hypothesis (p-value=0.0000 < 0.05). Statistically significant difference detected by t-test."
        ]
       ],
       "shape": {
        "columns": 2,
        "rows": 6
       }
      },
      "text/html": [
       "<div>\n",
       "<style scoped>\n",
       "    .dataframe tbody tr th:only-of-type {\n",
       "        vertical-align: middle;\n",
       "    }\n",
       "\n",
       "    .dataframe tbody tr th {\n",
       "        vertical-align: top;\n",
       "    }\n",
       "\n",
       "    .dataframe thead th {\n",
       "        text-align: right;\n",
       "    }\n",
       "</style>\n",
       "<table border=\"1\" class=\"dataframe\">\n",
       "  <thead>\n",
       "    <tr style=\"text-align: right;\">\n",
       "      <th></th>\n",
       "      <th>Hypothesis</th>\n",
       "      <th>Conclusion</th>\n",
       "    </tr>\n",
       "  </thead>\n",
       "  <tbody>\n",
       "    <tr>\n",
       "      <th>0</th>\n",
       "      <td>Risk difference across provinces (Claim Freque...</td>\n",
       "      <td>Reject the null hypothesis (p-value=0.0000 &lt; 0...</td>\n",
       "    </tr>\n",
       "    <tr>\n",
       "      <th>1</th>\n",
       "      <td>Risk difference across provinces (Claim Severity)</td>\n",
       "      <td>Fail to reject the null hypothesis (p-value=0....</td>\n",
       "    </tr>\n",
       "    <tr>\n",
       "      <th>2</th>\n",
       "      <td>Risk difference between zip codes (Claim Frequ...</td>\n",
       "      <td>Fail to reject the null hypothesis (p-value=0....</td>\n",
       "    </tr>\n",
       "    <tr>\n",
       "      <th>3</th>\n",
       "      <td>Margin difference between zip codes</td>\n",
       "      <td>Fail to reject the null hypothesis (p-value=0....</td>\n",
       "    </tr>\n",
       "    <tr>\n",
       "      <th>4</th>\n",
       "      <td>Risk difference between Women and Men (Claim F...</td>\n",
       "      <td>Reject the null hypothesis (p-value=0.0166 &lt; 0...</td>\n",
       "    </tr>\n",
       "    <tr>\n",
       "      <th>5</th>\n",
       "      <td>Risk difference between Women and Men (Claim S...</td>\n",
       "      <td>Reject the null hypothesis (p-value=0.0000 &lt; 0...</td>\n",
       "    </tr>\n",
       "  </tbody>\n",
       "</table>\n",
       "</div>"
      ],
      "text/plain": [
       "                                          Hypothesis  \\\n",
       "0  Risk difference across provinces (Claim Freque...   \n",
       "1  Risk difference across provinces (Claim Severity)   \n",
       "2  Risk difference between zip codes (Claim Frequ...   \n",
       "3                Margin difference between zip codes   \n",
       "4  Risk difference between Women and Men (Claim F...   \n",
       "5  Risk difference between Women and Men (Claim S...   \n",
       "\n",
       "                                          Conclusion  \n",
       "0  Reject the null hypothesis (p-value=0.0000 < 0...  \n",
       "1  Fail to reject the null hypothesis (p-value=0....  \n",
       "2  Fail to reject the null hypothesis (p-value=0....  \n",
       "3  Fail to reject the null hypothesis (p-value=0....  \n",
       "4  Reject the null hypothesis (p-value=0.0166 < 0...  \n",
       "5  Reject the null hypothesis (p-value=0.0000 < 0...  "
      ]
     },
     "metadata": {},
     "output_type": "display_data"
    }
   ],
   "source": [
    "import pandas as pd\n",
    "summary = pd.DataFrame([\n",
    "    {\"Hypothesis\": \"Risk difference across provinces (Claim Frequency)\", \"Conclusion\": result_freq['conclusion']},\n",
    "    {\"Hypothesis\": \"Risk difference across provinces (Claim Severity)\", \"Conclusion\": result_sev['conclusion']},\n",
    "    {\"Hypothesis\": \"Risk difference between zip codes (Claim Frequency)\", \"Conclusion\": result_zip_freq['conclusion']},\n",
    "    {\"Hypothesis\": \"Margin difference between zip codes\", \"Conclusion\": result_zip_margin['conclusion']},\n",
    "    {\"Hypothesis\": \"Risk difference between Women and Men (Claim Frequency)\", \"Conclusion\": result_gender_freq['conclusion'] if 'result_gender_freq' in locals() else 'N/A'},\n",
    "    {\"Hypothesis\": \"Risk difference between Women and Men (Claim Severity)\", \"Conclusion\": result_gender_sev['conclusion'] if 'result_gender_sev' in locals() else 'N/A'},\n",
    "])\n",
    "display(summary)"
   ]
  },
  {
   "cell_type": "markdown",
   "id": "7a87b1b1",
   "metadata": {},
   "source": [
    "---\n",
    "**Interpretation:**\n",
    "- If the null hypothesis is rejected, the feature has a statistically significant impact on the KPI.\n",
    "- If not rejected, there is no significant impact detected.\n",
    "- Use these findings to inform segmentation and business strategy."
   ]
  }
 ],
 "metadata": {
  "kernelspec": {
   "display_name": ".venv",
   "language": "python",
   "name": "python3"
  },
  "language_info": {
   "codemirror_mode": {
    "name": "ipython",
    "version": 3
   },
   "file_extension": ".py",
   "mimetype": "text/x-python",
   "name": "python",
   "nbconvert_exporter": "python",
   "pygments_lexer": "ipython3",
   "version": "3.13.5"
  }
 },
 "nbformat": 4,
 "nbformat_minor": 5
}
